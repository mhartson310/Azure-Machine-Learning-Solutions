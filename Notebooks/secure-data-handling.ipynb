# %% [markdown]
# # Secure Data Handling in AML
# *Best practices for confidential data processing*

# %%
from azureml.core import Workspace, Dataset
from azureml.core.authentication import ServicePrincipalAuthentication

# Secure authentication
svc_pr = ServicePrincipalAuthentication(
    tenant_id="your-tenant",
    service_principal_id="your-sp-id",
    service_principal_password="your-sp-secret"
)

# %%
# Connect to private workspace
ws = Workspace.get(
    name="secure-ml-prod",
    subscription_id="sub-id",
    resource_group="aml-sec-rg",
    auth=svc_pr
)

# %%
# Access data through private endpoint
dataset = Dataset.get_by_name(ws, name='secure-dataset')
df = dataset.to_pandas_dataframe()

# Apply data masking
import hashlib
df['sensitive_column'] = df['sensitive_column'].apply(
    lambda x: hashlib.sha256(x.encode()).hexdigest()
)

# %%
# Secure training environment
from azureml.core import Experiment, Environment
from azureml.core.conda_dependencies import CondaDependencies

secure_env = Environment(name="pytorch-secure")
secure_env.docker.enabled = True
secure_env.python.conda_dependencies = CondaDependencies.create(
    pytorch_version="1.12",
    pip_packages=["azureml-sdk", "cryptography"]
)

# %%
# Submit secure job
from azureml.core import ScriptRunConfig

src = ScriptRunConfig(
    source_directory='./src',
    script='train.py',
    environment=secure_env,
    compute_target='gpu-secure-cluster'
)

run = Experiment(ws, 'secure-training').submit(src)
run.wait_for_completion(show_output=True)
